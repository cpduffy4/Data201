{
  "nbformat": 4,
  "nbformat_minor": 0,
  "metadata": {
    "colab": {
      "name": "Titanic.ipynb",
      "provenance": []
    },
    "kernelspec": {
      "name": "python3",
      "display_name": "Python 3"
    },
    "language_info": {
      "name": "python"
    }
  },
  "cells": [
    {
      "cell_type": "markdown",
      "metadata": {
        "id": "PD1LxB6nPeRy"
      },
      "source": [
        "My Data is a dataset sourced from https://hbiostat.org/data/ or without the link, Vanderbilt's biostatistics department, which has 1309 names of passengers who were on the titanic along with summary statistics of them (which class they were in, their age, their gender, name, how many people were traveling with them, which type of people were traveling with them, and most importantly wether or not they survived. Some questions I am interested in would be how much more likely would a woman be likely to survive compared to a man? how much more likely would a child be to survive compared to working age people? how much more likely would it be for a wealthier individual to survive compared to a poorer individaul? how much more likely would one be to survive if they were travelling alone compared to in a larger group, and if people were deprioritised for traveling in a group, is there some \"sweet spot\" where you would be more likely to survive in a group than otherwise?"
      ]
    },
    {
      "cell_type": "code",
      "metadata": {
        "id": "naGimH2LvqnI"
      },
      "source": [
        "#data analysis libraries \n",
        "import numpy as np\n",
        "import pandas as pd\n",
        "from numpy.random import randn\n",
        "from scipy.stats.mstats import kruskal\n",
        "from scipy.stats import mannwhitneyu\n",
        "import statistics\n",
        "#visualization libraries\n",
        "import matplotlib.pyplot as plt\n",
        "import seaborn as sns\n",
        "%matplotlib inline\n",
        "\n",
        "#ignore warnings\n",
        "import warnings\n",
        "warnings.filterwarnings('ignore')"
      ],
      "execution_count": null,
      "outputs": []
    },
    {
      "cell_type": "code",
      "metadata": {
        "id": "AYFiy4Mud9rR"
      },
      "source": [
        "train = pd.read_csv(\"train.csv\")\n",
        "test = pd.read_csv(\"test.csv\")"
      ],
      "execution_count": null,
      "outputs": []
    },
    {
      "cell_type": "code",
      "metadata": {
        "colab": {
          "base_uri": "https://localhost:8080/"
        },
        "id": "plUgVd4Afy8R",
        "outputId": "7709c86f-3d80-4f2e-ddde-1a520b782a69"
      },
      "source": [
        "print(train.columns)"
      ],
      "execution_count": null,
      "outputs": [
        {
          "output_type": "stream",
          "text": [
            "Index(['pclass', 'survived', 'name', 'sex', 'age', 'sibsp', 'parch', 'ticket',\n",
            "       'fare', 'cabin', 'embarked', 'boat', 'body', 'home.dest'],\n",
            "      dtype='object')\n"
          ],
          "name": "stdout"
        }
      ]
    },
    {
      "cell_type": "code",
      "metadata": {
        "colab": {
          "base_uri": "https://localhost:8080/",
          "height": 204
        },
        "id": "DzP8b8NOf4dN",
        "outputId": "98656a53-8df6-4b4e-fba6-7a0be2bfef06"
      },
      "source": [
        "train.sample(5)"
      ],
      "execution_count": null,
      "outputs": [
        {
          "output_type": "execute_result",
          "data": {
            "text/html": [
              "<div>\n",
              "<style scoped>\n",
              "    .dataframe tbody tr th:only-of-type {\n",
              "        vertical-align: middle;\n",
              "    }\n",
              "\n",
              "    .dataframe tbody tr th {\n",
              "        vertical-align: top;\n",
              "    }\n",
              "\n",
              "    .dataframe thead th {\n",
              "        text-align: right;\n",
              "    }\n",
              "</style>\n",
              "<table border=\"1\" class=\"dataframe\">\n",
              "  <thead>\n",
              "    <tr style=\"text-align: right;\">\n",
              "      <th></th>\n",
              "      <th>pclass</th>\n",
              "      <th>survived</th>\n",
              "      <th>name</th>\n",
              "      <th>sex</th>\n",
              "      <th>age</th>\n",
              "      <th>sibsp</th>\n",
              "      <th>parch</th>\n",
              "      <th>ticket</th>\n",
              "      <th>fare</th>\n",
              "      <th>cabin</th>\n",
              "      <th>embarked</th>\n",
              "      <th>boat</th>\n",
              "      <th>body</th>\n",
              "      <th>home.dest</th>\n",
              "    </tr>\n",
              "  </thead>\n",
              "  <tbody>\n",
              "    <tr>\n",
              "      <th>285</th>\n",
              "      <td>1</td>\n",
              "      <td>0</td>\n",
              "      <td>Straus, Mr. Isidor</td>\n",
              "      <td>male</td>\n",
              "      <td>67.0</td>\n",
              "      <td>1</td>\n",
              "      <td>0</td>\n",
              "      <td>PC 17483</td>\n",
              "      <td>221.7792</td>\n",
              "      <td>C55 C57</td>\n",
              "      <td>S</td>\n",
              "      <td>NaN</td>\n",
              "      <td>96.0</td>\n",
              "      <td>New York, NY</td>\n",
              "    </tr>\n",
              "    <tr>\n",
              "      <th>248</th>\n",
              "      <td>1</td>\n",
              "      <td>0</td>\n",
              "      <td>Rowe, Mr. Alfred G</td>\n",
              "      <td>male</td>\n",
              "      <td>33.0</td>\n",
              "      <td>0</td>\n",
              "      <td>0</td>\n",
              "      <td>113790</td>\n",
              "      <td>26.5500</td>\n",
              "      <td>NaN</td>\n",
              "      <td>S</td>\n",
              "      <td>NaN</td>\n",
              "      <td>109.0</td>\n",
              "      <td>London</td>\n",
              "    </tr>\n",
              "    <tr>\n",
              "      <th>547</th>\n",
              "      <td>2</td>\n",
              "      <td>0</td>\n",
              "      <td>Richard, Mr. Emile</td>\n",
              "      <td>male</td>\n",
              "      <td>23.0</td>\n",
              "      <td>0</td>\n",
              "      <td>0</td>\n",
              "      <td>SC/PARIS 2133</td>\n",
              "      <td>15.0458</td>\n",
              "      <td>NaN</td>\n",
              "      <td>C</td>\n",
              "      <td>NaN</td>\n",
              "      <td>NaN</td>\n",
              "      <td>Paris / Montreal, PQ</td>\n",
              "    </tr>\n",
              "    <tr>\n",
              "      <th>442</th>\n",
              "      <td>2</td>\n",
              "      <td>0</td>\n",
              "      <td>Hickman, Mr. Leonard Mark</td>\n",
              "      <td>male</td>\n",
              "      <td>24.0</td>\n",
              "      <td>2</td>\n",
              "      <td>0</td>\n",
              "      <td>S.O.C. 14879</td>\n",
              "      <td>73.5000</td>\n",
              "      <td>NaN</td>\n",
              "      <td>S</td>\n",
              "      <td>NaN</td>\n",
              "      <td>NaN</td>\n",
              "      <td>West Hampstead, London / Neepawa, MB</td>\n",
              "    </tr>\n",
              "    <tr>\n",
              "      <th>546</th>\n",
              "      <td>2</td>\n",
              "      <td>1</td>\n",
              "      <td>Reynaldo, Ms. Encarnacion</td>\n",
              "      <td>female</td>\n",
              "      <td>28.0</td>\n",
              "      <td>0</td>\n",
              "      <td>0</td>\n",
              "      <td>230434</td>\n",
              "      <td>13.0000</td>\n",
              "      <td>NaN</td>\n",
              "      <td>S</td>\n",
              "      <td>9</td>\n",
              "      <td>NaN</td>\n",
              "      <td>Spain</td>\n",
              "    </tr>\n",
              "  </tbody>\n",
              "</table>\n",
              "</div>"
            ],
            "text/plain": [
              "     pclass  survived  ...   body                             home.dest\n",
              "285       1         0  ...   96.0                          New York, NY\n",
              "248       1         0  ...  109.0                                London\n",
              "547       2         0  ...    NaN                  Paris / Montreal, PQ\n",
              "442       2         0  ...    NaN  West Hampstead, London / Neepawa, MB\n",
              "546       2         1  ...    NaN                                 Spain\n",
              "\n",
              "[5 rows x 14 columns]"
            ]
          },
          "metadata": {
            "tags": []
          },
          "execution_count": 79
        }
      ]
    },
    {
      "cell_type": "code",
      "metadata": {
        "colab": {
          "base_uri": "https://localhost:8080/",
          "height": 390
        },
        "id": "VWLkKwsXgKof",
        "outputId": "f408b9ca-3b30-4a67-a752-2acd58c5dd41"
      },
      "source": [
        "train.describe(include = \"all\")"
      ],
      "execution_count": null,
      "outputs": [
        {
          "output_type": "execute_result",
          "data": {
            "text/html": [
              "<div>\n",
              "<style scoped>\n",
              "    .dataframe tbody tr th:only-of-type {\n",
              "        vertical-align: middle;\n",
              "    }\n",
              "\n",
              "    .dataframe tbody tr th {\n",
              "        vertical-align: top;\n",
              "    }\n",
              "\n",
              "    .dataframe thead th {\n",
              "        text-align: right;\n",
              "    }\n",
              "</style>\n",
              "<table border=\"1\" class=\"dataframe\">\n",
              "  <thead>\n",
              "    <tr style=\"text-align: right;\">\n",
              "      <th></th>\n",
              "      <th>pclass</th>\n",
              "      <th>survived</th>\n",
              "      <th>name</th>\n",
              "      <th>sex</th>\n",
              "      <th>age</th>\n",
              "      <th>sibsp</th>\n",
              "      <th>parch</th>\n",
              "      <th>ticket</th>\n",
              "      <th>fare</th>\n",
              "      <th>cabin</th>\n",
              "      <th>embarked</th>\n",
              "      <th>boat</th>\n",
              "      <th>body</th>\n",
              "      <th>home.dest</th>\n",
              "      <th>AgeGroup</th>\n",
              "    </tr>\n",
              "  </thead>\n",
              "  <tbody>\n",
              "    <tr>\n",
              "      <th>count</th>\n",
              "      <td>1305.000000</td>\n",
              "      <td>1305.000000</td>\n",
              "      <td>1305</td>\n",
              "      <td>1305</td>\n",
              "      <td>1305.000000</td>\n",
              "      <td>1305.000000</td>\n",
              "      <td>1305.000000</td>\n",
              "      <td>1305</td>\n",
              "      <td>1305.000000</td>\n",
              "      <td>1305.0</td>\n",
              "      <td>1305</td>\n",
              "      <td>1305.0</td>\n",
              "      <td>1305.000000</td>\n",
              "      <td>1305.0</td>\n",
              "      <td>1305</td>\n",
              "    </tr>\n",
              "    <tr>\n",
              "      <th>unique</th>\n",
              "      <td>NaN</td>\n",
              "      <td>NaN</td>\n",
              "      <td>1305</td>\n",
              "      <td>2</td>\n",
              "      <td>NaN</td>\n",
              "      <td>NaN</td>\n",
              "      <td>NaN</td>\n",
              "      <td>925</td>\n",
              "      <td>NaN</td>\n",
              "      <td>187.0</td>\n",
              "      <td>3</td>\n",
              "      <td>28.0</td>\n",
              "      <td>NaN</td>\n",
              "      <td>370.0</td>\n",
              "      <td>7</td>\n",
              "    </tr>\n",
              "    <tr>\n",
              "      <th>top</th>\n",
              "      <td>NaN</td>\n",
              "      <td>NaN</td>\n",
              "      <td>Tornquist, Mr. William Henry</td>\n",
              "      <td>male</td>\n",
              "      <td>NaN</td>\n",
              "      <td>NaN</td>\n",
              "      <td>NaN</td>\n",
              "      <td>CA. 2343</td>\n",
              "      <td>NaN</td>\n",
              "      <td>-0.5</td>\n",
              "      <td>S</td>\n",
              "      <td>-0.5</td>\n",
              "      <td>NaN</td>\n",
              "      <td>-0.5</td>\n",
              "      <td>Young Adult</td>\n",
              "    </tr>\n",
              "    <tr>\n",
              "      <th>freq</th>\n",
              "      <td>NaN</td>\n",
              "      <td>NaN</td>\n",
              "      <td>1</td>\n",
              "      <td>841</td>\n",
              "      <td>NaN</td>\n",
              "      <td>NaN</td>\n",
              "      <td>NaN</td>\n",
              "      <td>11</td>\n",
              "      <td>NaN</td>\n",
              "      <td>1010.0</td>\n",
              "      <td>915</td>\n",
              "      <td>820.0</td>\n",
              "      <td>NaN</td>\n",
              "      <td>562.0</td>\n",
              "      <td>577</td>\n",
              "    </tr>\n",
              "    <tr>\n",
              "      <th>mean</th>\n",
              "      <td>2.292720</td>\n",
              "      <td>0.382375</td>\n",
              "      <td>NaN</td>\n",
              "      <td>NaN</td>\n",
              "      <td>29.870605</td>\n",
              "      <td>0.500383</td>\n",
              "      <td>0.386207</td>\n",
              "      <td>NaN</td>\n",
              "      <td>33.373641</td>\n",
              "      <td>NaN</td>\n",
              "      <td>NaN</td>\n",
              "      <td>NaN</td>\n",
              "      <td>14.402682</td>\n",
              "      <td>NaN</td>\n",
              "      <td>NaN</td>\n",
              "    </tr>\n",
              "    <tr>\n",
              "      <th>std</th>\n",
              "      <td>0.838208</td>\n",
              "      <td>0.486154</td>\n",
              "      <td>NaN</td>\n",
              "      <td>NaN</td>\n",
              "      <td>12.894527</td>\n",
              "      <td>1.042888</td>\n",
              "      <td>0.866624</td>\n",
              "      <td>NaN</td>\n",
              "      <td>51.798892</td>\n",
              "      <td>NaN</td>\n",
              "      <td>NaN</td>\n",
              "      <td>NaN</td>\n",
              "      <td>55.378595</td>\n",
              "      <td>NaN</td>\n",
              "      <td>NaN</td>\n",
              "    </tr>\n",
              "    <tr>\n",
              "      <th>min</th>\n",
              "      <td>1.000000</td>\n",
              "      <td>0.000000</td>\n",
              "      <td>NaN</td>\n",
              "      <td>NaN</td>\n",
              "      <td>0.170000</td>\n",
              "      <td>0.000000</td>\n",
              "      <td>0.000000</td>\n",
              "      <td>NaN</td>\n",
              "      <td>0.000000</td>\n",
              "      <td>NaN</td>\n",
              "      <td>NaN</td>\n",
              "      <td>NaN</td>\n",
              "      <td>-0.500000</td>\n",
              "      <td>NaN</td>\n",
              "      <td>NaN</td>\n",
              "    </tr>\n",
              "    <tr>\n",
              "      <th>25%</th>\n",
              "      <td>2.000000</td>\n",
              "      <td>0.000000</td>\n",
              "      <td>NaN</td>\n",
              "      <td>NaN</td>\n",
              "      <td>22.000000</td>\n",
              "      <td>0.000000</td>\n",
              "      <td>0.000000</td>\n",
              "      <td>NaN</td>\n",
              "      <td>7.895800</td>\n",
              "      <td>NaN</td>\n",
              "      <td>NaN</td>\n",
              "      <td>NaN</td>\n",
              "      <td>-0.500000</td>\n",
              "      <td>NaN</td>\n",
              "      <td>NaN</td>\n",
              "    </tr>\n",
              "    <tr>\n",
              "      <th>50%</th>\n",
              "      <td>3.000000</td>\n",
              "      <td>0.000000</td>\n",
              "      <td>NaN</td>\n",
              "      <td>NaN</td>\n",
              "      <td>29.870605</td>\n",
              "      <td>0.000000</td>\n",
              "      <td>0.000000</td>\n",
              "      <td>NaN</td>\n",
              "      <td>14.454200</td>\n",
              "      <td>NaN</td>\n",
              "      <td>NaN</td>\n",
              "      <td>NaN</td>\n",
              "      <td>-0.500000</td>\n",
              "      <td>NaN</td>\n",
              "      <td>NaN</td>\n",
              "    </tr>\n",
              "    <tr>\n",
              "      <th>75%</th>\n",
              "      <td>3.000000</td>\n",
              "      <td>1.000000</td>\n",
              "      <td>NaN</td>\n",
              "      <td>NaN</td>\n",
              "      <td>35.000000</td>\n",
              "      <td>1.000000</td>\n",
              "      <td>0.000000</td>\n",
              "      <td>NaN</td>\n",
              "      <td>31.275000</td>\n",
              "      <td>NaN</td>\n",
              "      <td>NaN</td>\n",
              "      <td>NaN</td>\n",
              "      <td>-0.500000</td>\n",
              "      <td>NaN</td>\n",
              "      <td>NaN</td>\n",
              "    </tr>\n",
              "    <tr>\n",
              "      <th>max</th>\n",
              "      <td>3.000000</td>\n",
              "      <td>1.000000</td>\n",
              "      <td>NaN</td>\n",
              "      <td>NaN</td>\n",
              "      <td>80.000000</td>\n",
              "      <td>8.000000</td>\n",
              "      <td>9.000000</td>\n",
              "      <td>NaN</td>\n",
              "      <td>512.329200</td>\n",
              "      <td>NaN</td>\n",
              "      <td>NaN</td>\n",
              "      <td>NaN</td>\n",
              "      <td>328.000000</td>\n",
              "      <td>NaN</td>\n",
              "      <td>NaN</td>\n",
              "    </tr>\n",
              "  </tbody>\n",
              "</table>\n",
              "</div>"
            ],
            "text/plain": [
              "             pclass     survived  ... home.dest     AgeGroup\n",
              "count   1305.000000  1305.000000  ...    1305.0         1305\n",
              "unique          NaN          NaN  ...     370.0            7\n",
              "top             NaN          NaN  ...      -0.5  Young Adult\n",
              "freq            NaN          NaN  ...     562.0          577\n",
              "mean       2.292720     0.382375  ...       NaN          NaN\n",
              "std        0.838208     0.486154  ...       NaN          NaN\n",
              "min        1.000000     0.000000  ...       NaN          NaN\n",
              "25%        2.000000     0.000000  ...       NaN          NaN\n",
              "50%        3.000000     0.000000  ...       NaN          NaN\n",
              "75%        3.000000     1.000000  ...       NaN          NaN\n",
              "max        3.000000     1.000000  ...       NaN          NaN\n",
              "\n",
              "[11 rows x 15 columns]"
            ]
          },
          "metadata": {
            "tags": []
          },
          "execution_count": 107
        }
      ]
    },
    {
      "cell_type": "code",
      "metadata": {
        "id": "qwGsuLEuhBBn"
      },
      "source": [
        "train.sort_values(\"name\", inplace = True)"
      ],
      "execution_count": null,
      "outputs": []
    },
    {
      "cell_type": "code",
      "metadata": {
        "id": "F-IcizN0hSy1"
      },
      "source": [
        "train.drop_duplicates(subset =\"name\",\n",
        "                     keep = False, inplace = True)"
      ],
      "execution_count": null,
      "outputs": []
    },
    {
      "cell_type": "code",
      "metadata": {
        "colab": {
          "base_uri": "https://localhost:8080/",
          "height": 390
        },
        "id": "OG-5zfFKhc4f",
        "outputId": "39cc8b5c-69fd-43af-e13b-4b07661a8c82"
      },
      "source": [
        "train.describe(include = \"all\")"
      ],
      "execution_count": null,
      "outputs": [
        {
          "output_type": "execute_result",
          "data": {
            "text/html": [
              "<div>\n",
              "<style scoped>\n",
              "    .dataframe tbody tr th:only-of-type {\n",
              "        vertical-align: middle;\n",
              "    }\n",
              "\n",
              "    .dataframe tbody tr th {\n",
              "        vertical-align: top;\n",
              "    }\n",
              "\n",
              "    .dataframe thead th {\n",
              "        text-align: right;\n",
              "    }\n",
              "</style>\n",
              "<table border=\"1\" class=\"dataframe\">\n",
              "  <thead>\n",
              "    <tr style=\"text-align: right;\">\n",
              "      <th></th>\n",
              "      <th>pclass</th>\n",
              "      <th>survived</th>\n",
              "      <th>name</th>\n",
              "      <th>sex</th>\n",
              "      <th>age</th>\n",
              "      <th>sibsp</th>\n",
              "      <th>parch</th>\n",
              "      <th>ticket</th>\n",
              "      <th>fare</th>\n",
              "      <th>cabin</th>\n",
              "      <th>embarked</th>\n",
              "      <th>boat</th>\n",
              "      <th>body</th>\n",
              "      <th>home.dest</th>\n",
              "    </tr>\n",
              "  </thead>\n",
              "  <tbody>\n",
              "    <tr>\n",
              "      <th>count</th>\n",
              "      <td>1305.000000</td>\n",
              "      <td>1305.000000</td>\n",
              "      <td>1305</td>\n",
              "      <td>1305</td>\n",
              "      <td>1305.000000</td>\n",
              "      <td>1305.000000</td>\n",
              "      <td>1305.000000</td>\n",
              "      <td>1305</td>\n",
              "      <td>1305.000000</td>\n",
              "      <td>295</td>\n",
              "      <td>1305</td>\n",
              "      <td>1305.0</td>\n",
              "      <td>1305.000000</td>\n",
              "      <td>743</td>\n",
              "    </tr>\n",
              "    <tr>\n",
              "      <th>unique</th>\n",
              "      <td>NaN</td>\n",
              "      <td>NaN</td>\n",
              "      <td>1305</td>\n",
              "      <td>2</td>\n",
              "      <td>NaN</td>\n",
              "      <td>NaN</td>\n",
              "      <td>NaN</td>\n",
              "      <td>925</td>\n",
              "      <td>NaN</td>\n",
              "      <td>186</td>\n",
              "      <td>3</td>\n",
              "      <td>28.0</td>\n",
              "      <td>NaN</td>\n",
              "      <td>369</td>\n",
              "    </tr>\n",
              "    <tr>\n",
              "      <th>top</th>\n",
              "      <td>NaN</td>\n",
              "      <td>NaN</td>\n",
              "      <td>Tornquist, Mr. William Henry</td>\n",
              "      <td>male</td>\n",
              "      <td>NaN</td>\n",
              "      <td>NaN</td>\n",
              "      <td>NaN</td>\n",
              "      <td>CA. 2343</td>\n",
              "      <td>NaN</td>\n",
              "      <td>C23 C25 C27</td>\n",
              "      <td>S</td>\n",
              "      <td>-0.5</td>\n",
              "      <td>NaN</td>\n",
              "      <td>New York, NY</td>\n",
              "    </tr>\n",
              "    <tr>\n",
              "      <th>freq</th>\n",
              "      <td>NaN</td>\n",
              "      <td>NaN</td>\n",
              "      <td>1</td>\n",
              "      <td>841</td>\n",
              "      <td>NaN</td>\n",
              "      <td>NaN</td>\n",
              "      <td>NaN</td>\n",
              "      <td>11</td>\n",
              "      <td>NaN</td>\n",
              "      <td>6</td>\n",
              "      <td>915</td>\n",
              "      <td>820.0</td>\n",
              "      <td>NaN</td>\n",
              "      <td>64</td>\n",
              "    </tr>\n",
              "    <tr>\n",
              "      <th>mean</th>\n",
              "      <td>2.292720</td>\n",
              "      <td>0.382375</td>\n",
              "      <td>NaN</td>\n",
              "      <td>NaN</td>\n",
              "      <td>29.870605</td>\n",
              "      <td>0.500383</td>\n",
              "      <td>0.386207</td>\n",
              "      <td>NaN</td>\n",
              "      <td>33.373641</td>\n",
              "      <td>NaN</td>\n",
              "      <td>NaN</td>\n",
              "      <td>NaN</td>\n",
              "      <td>14.402682</td>\n",
              "      <td>NaN</td>\n",
              "    </tr>\n",
              "    <tr>\n",
              "      <th>std</th>\n",
              "      <td>0.838208</td>\n",
              "      <td>0.486154</td>\n",
              "      <td>NaN</td>\n",
              "      <td>NaN</td>\n",
              "      <td>12.894527</td>\n",
              "      <td>1.042888</td>\n",
              "      <td>0.866624</td>\n",
              "      <td>NaN</td>\n",
              "      <td>51.798892</td>\n",
              "      <td>NaN</td>\n",
              "      <td>NaN</td>\n",
              "      <td>NaN</td>\n",
              "      <td>55.378595</td>\n",
              "      <td>NaN</td>\n",
              "    </tr>\n",
              "    <tr>\n",
              "      <th>min</th>\n",
              "      <td>1.000000</td>\n",
              "      <td>0.000000</td>\n",
              "      <td>NaN</td>\n",
              "      <td>NaN</td>\n",
              "      <td>0.170000</td>\n",
              "      <td>0.000000</td>\n",
              "      <td>0.000000</td>\n",
              "      <td>NaN</td>\n",
              "      <td>0.000000</td>\n",
              "      <td>NaN</td>\n",
              "      <td>NaN</td>\n",
              "      <td>NaN</td>\n",
              "      <td>-0.500000</td>\n",
              "      <td>NaN</td>\n",
              "    </tr>\n",
              "    <tr>\n",
              "      <th>25%</th>\n",
              "      <td>2.000000</td>\n",
              "      <td>0.000000</td>\n",
              "      <td>NaN</td>\n",
              "      <td>NaN</td>\n",
              "      <td>22.000000</td>\n",
              "      <td>0.000000</td>\n",
              "      <td>0.000000</td>\n",
              "      <td>NaN</td>\n",
              "      <td>7.895800</td>\n",
              "      <td>NaN</td>\n",
              "      <td>NaN</td>\n",
              "      <td>NaN</td>\n",
              "      <td>-0.500000</td>\n",
              "      <td>NaN</td>\n",
              "    </tr>\n",
              "    <tr>\n",
              "      <th>50%</th>\n",
              "      <td>3.000000</td>\n",
              "      <td>0.000000</td>\n",
              "      <td>NaN</td>\n",
              "      <td>NaN</td>\n",
              "      <td>29.870605</td>\n",
              "      <td>0.000000</td>\n",
              "      <td>0.000000</td>\n",
              "      <td>NaN</td>\n",
              "      <td>14.454200</td>\n",
              "      <td>NaN</td>\n",
              "      <td>NaN</td>\n",
              "      <td>NaN</td>\n",
              "      <td>-0.500000</td>\n",
              "      <td>NaN</td>\n",
              "    </tr>\n",
              "    <tr>\n",
              "      <th>75%</th>\n",
              "      <td>3.000000</td>\n",
              "      <td>1.000000</td>\n",
              "      <td>NaN</td>\n",
              "      <td>NaN</td>\n",
              "      <td>35.000000</td>\n",
              "      <td>1.000000</td>\n",
              "      <td>0.000000</td>\n",
              "      <td>NaN</td>\n",
              "      <td>31.275000</td>\n",
              "      <td>NaN</td>\n",
              "      <td>NaN</td>\n",
              "      <td>NaN</td>\n",
              "      <td>-0.500000</td>\n",
              "      <td>NaN</td>\n",
              "    </tr>\n",
              "    <tr>\n",
              "      <th>max</th>\n",
              "      <td>3.000000</td>\n",
              "      <td>1.000000</td>\n",
              "      <td>NaN</td>\n",
              "      <td>NaN</td>\n",
              "      <td>80.000000</td>\n",
              "      <td>8.000000</td>\n",
              "      <td>9.000000</td>\n",
              "      <td>NaN</td>\n",
              "      <td>512.329200</td>\n",
              "      <td>NaN</td>\n",
              "      <td>NaN</td>\n",
              "      <td>NaN</td>\n",
              "      <td>328.000000</td>\n",
              "      <td>NaN</td>\n",
              "    </tr>\n",
              "  </tbody>\n",
              "</table>\n",
              "</div>"
            ],
            "text/plain": [
              "             pclass     survived  ...         body     home.dest\n",
              "count   1305.000000  1305.000000  ...  1305.000000           743\n",
              "unique          NaN          NaN  ...          NaN           369\n",
              "top             NaN          NaN  ...          NaN  New York, NY\n",
              "freq            NaN          NaN  ...          NaN            64\n",
              "mean       2.292720     0.382375  ...    14.402682           NaN\n",
              "std        0.838208     0.486154  ...    55.378595           NaN\n",
              "min        1.000000     0.000000  ...    -0.500000           NaN\n",
              "25%        2.000000     0.000000  ...    -0.500000           NaN\n",
              "50%        3.000000     0.000000  ...    -0.500000           NaN\n",
              "75%        3.000000     1.000000  ...    -0.500000           NaN\n",
              "max        3.000000     1.000000  ...   328.000000           NaN\n",
              "\n",
              "[11 rows x 14 columns]"
            ]
          },
          "metadata": {
            "tags": []
          },
          "execution_count": 99
        }
      ]
    },
    {
      "cell_type": "code",
      "metadata": {
        "id": "YDWDq5O-hpFc"
      },
      "source": [
        "train['embarked'].fillna(value='S', inplace=True)"
      ],
      "execution_count": null,
      "outputs": []
    },
    {
      "cell_type": "markdown",
      "metadata": {
        "id": "p2LZ3zY-hzUW"
      },
      "source": [
        "I chose to assume those without a written embarked from location left from southhampton, because 913/1303 departed from southhampton"
      ]
    },
    {
      "cell_type": "code",
      "metadata": {
        "id": "7Og0qnFul1d3"
      },
      "source": [
        "mean_value_age=train['age'].mean()\n",
        "train['age'].fillna(value=mean_value_age, inplace=True)"
      ],
      "execution_count": null,
      "outputs": []
    },
    {
      "cell_type": "code",
      "metadata": {
        "id": "xG8yrHrhmUS-"
      },
      "source": [
        "mean_value_fare=train['fare'].mean()\n",
        "train['fare'].fillna(value=mean_value_fare, inplace=True)"
      ],
      "execution_count": null,
      "outputs": []
    },
    {
      "cell_type": "code",
      "metadata": {
        "id": "V0gM4WgRm5sl"
      },
      "source": [
        "train['boat'].fillna(value=-.5, inplace=True)"
      ],
      "execution_count": null,
      "outputs": []
    },
    {
      "cell_type": "code",
      "metadata": {
        "id": "w8KlfLqcnEfC"
      },
      "source": [
        "train['body'].fillna(value=-.5, inplace=True)"
      ],
      "execution_count": null,
      "outputs": []
    },
    {
      "cell_type": "code",
      "metadata": {
        "id": "D9TmbHsonHd3"
      },
      "source": [
        "train['cabin'].fillna(value=-.5, inplace=True)"
      ],
      "execution_count": null,
      "outputs": []
    },
    {
      "cell_type": "code",
      "metadata": {
        "id": "d17AUcWKnQ_k"
      },
      "source": [
        "train['home.dest'].fillna(value=-.5, inplace=True)"
      ],
      "execution_count": null,
      "outputs": []
    },
    {
      "cell_type": "markdown",
      "metadata": {
        "id": "q9-ryhHynndt"
      },
      "source": [
        "For the variables where NaN was replaced with a -.5, this was because they are descriptive variables or outcome variables, so no assumptions could be made as to what to put within the columns, so -.5 is being used to seperate it."
      ]
    },
    {
      "cell_type": "code",
      "metadata": {
        "colab": {
          "base_uri": "https://localhost:8080/"
        },
        "id": "zpWdTL0CgcRX",
        "outputId": "511e1a44-348d-4c2e-8dec-50da10489ff3"
      },
      "source": [
        "print(pd.isnull(train).sum())"
      ],
      "execution_count": null,
      "outputs": [
        {
          "output_type": "stream",
          "text": [
            "pclass       0\n",
            "survived     0\n",
            "name         0\n",
            "sex          0\n",
            "age          0\n",
            "sibsp        0\n",
            "parch        0\n",
            "ticket       0\n",
            "fare         0\n",
            "cabin        0\n",
            "embarked     0\n",
            "boat         0\n",
            "body         0\n",
            "home.dest    0\n",
            "dtype: int64\n"
          ],
          "name": "stdout"
        }
      ]
    },
    {
      "cell_type": "code",
      "metadata": {
        "colab": {
          "base_uri": "https://localhost:8080/",
          "height": 316
        },
        "id": "0Zl0Sfjlgftk",
        "outputId": "586a4b7b-ee7c-450a-a6e4-1186f56e6fc9"
      },
      "source": [
        "sns.barplot(x=\"sex\", y=\"survived\", data=train, palette=\"husl\")\n",
        "\n",
        "print(\"Percentage of females who survived:\", train[\"survived\"][train[\"sex\"] == 'female'].value_counts(normalize = True)[1]*100)\n",
        "\n",
        "print(\"Percentage of males who survived:\", train[\"survived\"][train[\"sex\"] == 'male'].value_counts(normalize = True)[1]*100)"
      ],
      "execution_count": null,
      "outputs": [
        {
          "output_type": "stream",
          "text": [
            "Percentage of females who survived: 72.84482758620689\n",
            "Percentage of males who survived: 19.14387633769322\n"
          ],
          "name": "stdout"
        },
        {
          "output_type": "display_data",
          "data": {
            "image/png": "[encoded data removed]",
            "text/plain": [
              "<Figure size 432x288 with 1 Axes>"
            ]
          },
          "metadata": {
            "tags": [],
            "needs_background": "light"
          }
        }
      ]
    },
    {
      "cell_type": "markdown",
      "metadata": {
        "id": "L6aMPKAdXUpS"
      },
      "source": [
        "Females were over 50% more likely to survive compared to their male counterparts. "
      ]
    },
    {
      "cell_type": "code",
      "metadata": {
        "colab": {
          "base_uri": "https://localhost:8080/",
          "height": 398
        },
        "id": "JkwvOhqvhgFd",
        "outputId": "01c87232-e958-4643-8ffc-16657d51f4b3"
      },
      "source": [
        "bins = [0, 5, 12, 18, 24, 35, 60, np.inf]\n",
        "labels = ['Baby', 'Child', 'Teen', 'College Student', 'Young Adult', 'Adult', 'Senior']\n",
        "train['AgeGroup'] = pd.cut(train[\"age\"], bins, labels = labels)\n",
        "sns.barplot(x=\"survived\", y=\"AgeGroup\", data=train, palette=\"husl\")\n",
        "plt.show()\n",
        "#For data where age is missing I used fillna(train.mean()) Which places the previously unknown people into the Adult categorey. While I don't believe this should cause many problems, I will also do a graph seperating people with unknown ages from adults.\n",
        "#Age Groups:Baby (0,5), Child (5, 12), Teen (12, 18) ,Student (18-24), YAdult(24, 35), Adult(35, 60), Senior(x > 60) \n",
        "print(\"Percentage of babies who survived:\", train[\"survived\"][train[\"AgeGroup\"] == 'Baby'].value_counts(normalize = True)[1]*100)\n",
        "print(\"Percentage of children who survived:\", train[\"survived\"][train[\"AgeGroup\"] == 'Child'].value_counts(normalize = True)[1]*100)\n",
        "print(\"Percentage of Teens who survived:\", train[\"survived\"][train[\"AgeGroup\"] == 'Teen'].value_counts(normalize = True)[1]*100)\n",
        "print(\"Percentage of college age students who survived:\", train[\"survived\"][train[\"AgeGroup\"] == 'College Student'].value_counts(normalize = True)[1]*100)\n",
        "print(\"Percentage of young adults who survived:\", train[\"survived\"][train[\"AgeGroup\"] == 'Young Adult'].value_counts(normalize = True)[1]*100)\n",
        "print(\"Percentage of adults who survived:\", train[\"survived\"][train[\"AgeGroup\"] == 'Adult'].value_counts(normalize = True)[1]*100)\n",
        "print(\"Percentage of seniors who survived:\", train[\"survived\"][train[\"AgeGroup\"] == 'Senior'].value_counts(normalize = True)[1]*100)"
      ],
      "execution_count": null,
      "outputs": [
        {
          "output_type": "display_data",
          "data": {
            "image/png": "[encoded data removed]",
            "text/plain": [
              "<Figure size 432x288 with 1 Axes>"
            ]
          },
          "metadata": {
            "tags": [],
            "needs_background": "light"
          }
        },
        {
          "output_type": "stream",
          "text": [
            "Percentage of babies who survived: 66.07142857142857\n",
            "Percentage of children who survived: 44.73684210526316\n",
            "Percentage of Teens who survived: 41.41414141414141\n",
            "Percentage of college age students who survived: 37.850467289719624\n",
            "Percentage of young adults who survived: 33.96880415944541\n",
            "Percentage of adults who survived: 41.31944444444444\n",
            "Percentage of seniors who survived: 24.242424242424242\n"
          ],
          "name": "stdout"
        }
      ]
    },
    {
      "cell_type": "markdown",
      "metadata": {
        "id": "bCW-fypLWabD"
      },
      "source": [
        "Based on this data, the most likely to survive group was babies aged 0-5, which isn't surprising since a natural instinct and assumption would be to protect your kids and the younger people to make sure they make it out alive. Surprisingly however, this did not continue to be the trend throughout the whole graph, with young adults (24-35) being the second most likely to not survive, nearly 8% behind adults in general."
      ]
    },
    {
      "cell_type": "code",
      "metadata": {
        "colab": {
          "base_uri": "https://localhost:8080/",
          "height": 298
        },
        "id": "mdiXLw5VYofW",
        "outputId": "a16024fc-3a36-48ce-e027-9e2282376c09"
      },
      "source": [
        "p4 = train.hist(column='age', color='#882FA9')\n",
        "p4 = p4[0]\n",
        "for x in p4:\n",
        "    x.set_title(\"\")\n",
        "    x.set_xlabel(\"Age\", labelpad=20, weight='bold', size=12)\n",
        "    x.set_ylabel(\"People\", labelpad=20, weight='bold', size=12)\n"
      ],
      "execution_count": null,
      "outputs": [
        {
          "output_type": "display_data",
          "data": {
            "image/png": "[encoded data removed]",
            "text/plain": [
              "<Figure size 432x288 with 1 Axes>"
            ]
          },
          "metadata": {
            "tags": [],
            "needs_background": "light"
          }
        }
      ]
    },
    {
      "cell_type": "markdown",
      "metadata": {
        "id": "W4iQRRNHdpv2"
      },
      "source": [
        "Using a histogram potentially shows part of the reason, with the largest concentration of people being within the young adult age group."
      ]
    },
    {
      "cell_type": "code",
      "metadata": {
        "id": "3YZHjJe38UBT"
      },
      "source": [
        "#train[\"Age\"] = train[\"age\"].fillna(-0.5)\n",
        "#test[\"Age\"] = test[\"Age\"].fillna(-0.5)\n",
        "#bins = [-1, 0, 5, 12, 18, 24, 35, 60, np.inf]\n",
        "#labels = ['Unknown', 'Baby', 'Child', 'Teen', 'College Student', 'Young Adult', 'Adult', 'Senior']\n",
        "#train['AgeGroup'] = pd.cut(train[\"Age\"], bins, labels = labels)\n",
        "#test['AgeGroup'] = pd.cut(test[\"Age\"], bins, labels = labels)\n",
        "#sns.barplot(x=\"survived\", y=\"AgeGroup\", data=train, palette=\"husl\")\n",
        "#plt.show()\n",
        "#print(\"Percentage of people of unknown ages who survived:\", train[\"survived\"][train[\"AgeGroup\"] == 'Unknown'].value_counts(normalize = True)[1]*100)\n",
        "#print(\"Percentage of babies who survived:\", train[\"survived\"][train[\"AgeGroup\"] == 'Baby'].value_counts(normalize = True)[1]*100)\n",
        "#print(\"Percentage of children who survived:\", train[\"survived\"][train[\"AgeGroup\"] == 'Child'].value_counts(normalize = True)[1]*100)\n",
        "#print(\"Percentage of Teens who survived:\", train[\"survived\"][train[\"AgeGroup\"] == 'Teen'].value_counts(normalize = True)[1]*100)\n",
        "#print(\"Percentage of college age students who survived:\", train[\"survived\"][train[\"AgeGroup\"] == 'College Student'].value_counts(normalize = True)[1]*100)\n",
        "#print(\"Percentage of young adults who survived:\", train[\"survived\"][train[\"AgeGroup\"] == 'Young Adult'].value_counts(normalize = True)[1]*100)\n",
        "#print(\"Percentage of adults who survived:\", train[\"survived\"][train[\"AgeGroup\"] == 'Adult'].value_counts(normalize = True)[1]*100)\n",
        "#print(\"Percentage of seniors who survived:\", train[\"survived\"][train[\"AgeGroup\"] == 'Senior'].value_counts(normalize = True)[1]*100)"
      ],
      "execution_count": null,
      "outputs": []
    },
    {
      "cell_type": "code",
      "metadata": {
        "colab": {
          "base_uri": "https://localhost:8080/",
          "height": 346
        },
        "id": "aSG8tx-Ni4m_",
        "outputId": "70777873-0c0c-4e85-b561-015f9ae1445c"
      },
      "source": [
        "fig1 = sns.barplot(x=\"pclass\", y=\"survived\", data=train, palette=\"husl\")\n",
        "plt.xlabel(\"Passenger Class\")\n",
        "plt.ylabel(\"% Survived\")\n",
        "plt.title(\"Survival by passenger class\") \n",
        "plt.show(fig1)\n",
        "print(\"Percentage of People with first class tickets who survived:\", train[\"survived\"][train[\"pclass\"] == 1].value_counts(normalize = True)[1]*100)\n",
        "\n",
        "print(\"Percentage of People with second class tickets who survived:\", train[\"survived\"][train[\"pclass\"] == 2].value_counts(normalize = True)[1]*100)\n",
        "\n",
        "print(\"Percentage of People with third class tickets who survived:\", train[\"survived\"][train[\"pclass\"] == 3].value_counts(normalize = True)[1]*100)"
      ],
      "execution_count": null,
      "outputs": [
        {
          "output_type": "display_data",
          "data": {
            "image/png": "[encoded data removed]",
            "text/plain": [
              "<Figure size 432x288 with 1 Axes>"
            ]
          },
          "metadata": {
            "tags": [],
            "needs_background": "light"
          }
        },
        {
          "output_type": "stream",
          "text": [
            "Percentage of People with first class tickets who survived: 61.91950464396285\n",
            "Percentage of People with second class tickets who survived: 42.96028880866426\n",
            "Percentage of People with third class tickets who survived: 25.52891396332863\n"
          ],
          "name": "stdout"
        }
      ]
    },
    {
      "cell_type": "markdown",
      "metadata": {
        "id": "TNNuHtjo-GlB"
      },
      "source": [
        "People who were placed in the higher passenger classes were far more likely to survive than those with lower classes, with an over 35% difference between how likely someone in First class was to survive opposed to Third class, and second class was nearly 20% more likely to survive than third but also nearly 20% less likely to survive than first class. This shows a clear discrepency in the disembarking procedure to benefit the wealthier passengers. This supports my earlier assumption that people with more money were far more likely to survive the disaster than those without."
      ]
    },
    {
      "cell_type": "code",
      "metadata": {
        "colab": {
          "base_uri": "https://localhost:8080/",
          "height": 364
        },
        "id": "80Wsu_FjTigH",
        "outputId": "57c94e52-f1e5-414a-c664-a39b67b0e92c"
      },
      "source": [
        "sns.barplot(x=\"sibsp\", y=\"survived\", data=train, palette=\"husl\")\n",
        "\n",
        "#I won't be printing individual percent values for all of these.\n",
        "print(\"Percentage of people with no spouse or sibling on board who survived:\", train[\"survived\"][train[\"sibsp\"] == 0].value_counts(normalize = True)[1]*100)\n",
        "print(\"Percentage of people with 1 spouse or sibling on board who survived:\", train[\"survived\"][train[\"sibsp\"] == 1].value_counts(normalize = True)[1]*100)\n",
        "print(\"Percentage of people with 2 spouses or siblings on board who survived:\", train[\"survived\"][train[\"sibsp\"] == 2].value_counts(normalize = True)[1]*100)\n",
        "print(\"Percentage of people with 3 spouses or siblings on board who survived:\", train[\"survived\"][train[\"sibsp\"] == 3].value_counts(normalize = True)[1]*100)\n",
        "print(\"Percentage of people with 4 spouses or siblings on board who survived:\", train[\"survived\"][train[\"sibsp\"] == 4].value_counts(normalize = True)[1]*100)"
      ],
      "execution_count": null,
      "outputs": [
        {
          "output_type": "stream",
          "text": [
            "Percentage of people with no spouse or sibling on board who survived: 34.68013468013468\n",
            "Percentage of people with 1 spouse or sibling on board who survived: 51.09717868338558\n",
            "Percentage of people with 2 spouses or siblings on board who survived: 45.23809523809524\n",
            "Percentage of people with 3 spouses or siblings on board who survived: 30.0\n",
            "Percentage of people with 4 spouses or siblings on board who survived: 13.636363636363635\n"
          ],
          "name": "stdout"
        },
        {
          "output_type": "display_data",
          "data": {
            "image/png": "[encoded data removed]",
            "text/plain": [
              "<Figure size 432x288 with 1 Axes>"
            ]
          },
          "metadata": {
            "tags": [],
            "needs_background": "light"
          }
        }
      ]
    },
    {
      "cell_type": "markdown",
      "metadata": {
        "id": "3jWxQwV5TiJS"
      },
      "source": [
        "People with one spouse or sibling were surprisingly the most likely to survive, with people travelling alone being less likely than people with one spouse/sibling and two spouses/siblings which is very surprising, my assumption would be this is down to more men having travelled onto the ship alone, therefore them being deprioritised when compared to women and their husbands. "
      ]
    },
    {
      "cell_type": "code",
      "metadata": {
        "colab": {
          "base_uri": "https://localhost:8080/",
          "height": 279
        },
        "id": "YGod9jpiUn3X",
        "outputId": "b6384598-6b8b-4c61-a424-96b146c9e142"
      },
      "source": [
        "sns.barplot(x=\"parch\", y=\"survived\", data=train, palette=\"husl\")\n",
        "plt.show()"
      ],
      "execution_count": null,
      "outputs": [
        {
          "output_type": "display_data",
          "data": {
            "image/png": "[encoded data removed]",
            "text/plain": [
              "<Figure size 432x288 with 1 Axes>"
            ]
          },
          "metadata": {
            "tags": [],
            "needs_background": "light"
          }
        }
      ]
    },
    {
      "cell_type": "markdown",
      "metadata": {
        "id": "jCYH3_9XU3se"
      },
      "source": [
        "The most likely group to survive was people with 3 parents of children on board, which is very surprising to me, this answers my \"sweet spot\" question I suppose but I don't necessarily understand why this would be the case. "
      ]
    },
    {
      "cell_type": "code",
      "metadata": {
        "colab": {
          "base_uri": "https://localhost:8080/"
        },
        "id": "6_w5zr3vXOlT",
        "outputId": "8e72f271-5293-4569-d1c2-c064c919967a"
      },
      "source": [
        "# generate gaussian data samples\n",
        "from numpy.random import seed\n",
        "from numpy.random import randn\n",
        "from numpy import mean\n",
        "from numpy import std\n",
        "\n",
        "# seed the random number generator\n",
        "seed(1)\n",
        "# generate two sets of univariate observations\n",
        "data1 = 5 * randn(100) + 50\n",
        "data2 = 5 * randn(100) + 51\n",
        "# summarize\n",
        "print('data1: mean=%.3f stdv=%.3f' % (mean(data1), std(data1)))\n",
        "print('data2: mean=%.3f stdv=%.3f' % (mean(data2), std(data2)))"
      ],
      "execution_count": null,
      "outputs": [
        {
          "output_type": "stream",
          "text": [
            "data1: mean=50.303 stdv=4.426\n",
            "data2: mean=51.764 stdv=4.660\n"
          ],
          "name": "stdout"
        }
      ]
    },
    {
      "cell_type": "code",
      "metadata": {
        "colab": {
          "base_uri": "https://localhost:8080/"
        },
        "id": "-jkITUrLqi46",
        "outputId": "b9e2a66f-e8c8-4701-c97c-f76b4c0aa217"
      },
      "source": [
        "sampleSize = int(len(train)*(0.1))\n",
        "sampleSize"
      ],
      "execution_count": null,
      "outputs": [
        {
          "output_type": "execute_result",
          "data": {
            "text/plain": [
              "130"
            ]
          },
          "metadata": {
            "tags": []
          },
          "execution_count": 160
        }
      ]
    },
    {
      "cell_type": "code",
      "metadata": {
        "id": "p2siw3pZsqnd"
      },
      "source": [
        "medianValues = []\n",
        "\n",
        "for i in range(130):\n",
        "    boot1 = np.random.choice(train['age'],sampleSize)\n",
        "    medianValues.append(np.median(boot1))\n",
        "    \n",
        "median_age = np.median(medianValues)\n",
        "std_age = np.std(medianValues)"
      ],
      "execution_count": 179,
      "outputs": []
    },
    {
      "cell_type": "code",
      "metadata": {
        "colab": {
          "base_uri": "https://localhost:8080/"
        },
        "id": "kkAod7re6Oa1",
        "outputId": "9853da22-5d9a-4797-9f6f-89aecfad82d7"
      },
      "source": [
        "print('Sample median age: ' + str(median_age) + '\\n' +\n",
        "     'Population median age: ' + str(np.median(train['age'])) + '\\n' +\n",
        "     'Sample standard error for age: ' + str(std_age) + '\\n' +\n",
        "      'Population standard error age: ' + str(np.std(train['age'])/np.sqrt(num_samples)))"
      ],
      "execution_count": 182,
      "outputs": [
        {
          "output_type": "stream",
          "text": [
            "Sample median age: 29.87060460652591\n",
            "Population median age: 29.87060460652591\n",
            "Sample standard error for age: 0.4565770687533268\n",
            "Population standard error age: 1.1304914796985766\n"
          ],
          "name": "stdout"
        }
      ]
    },
    {
      "cell_type": "code",
      "metadata": {
        "colab": {
          "base_uri": "https://localhost:8080/",
          "height": 281
        },
        "id": "gCyUj1Msssf9",
        "outputId": "f9d03b68-be52-4c72-d77b-ab60a3dead8a"
      },
      "source": [
        "plt.hist(medianValues)\n",
        "plt.title('Median Age Sampling Distribution (n = 130)')\n",
        "plt.show()"
      ],
      "execution_count": 183,
      "outputs": [
        {
          "output_type": "display_data",
          "data": {
            "image/png": "[encoded data removed]",
            "text/plain": [
              "<Figure size 432x288 with 1 Axes>"
            ]
          },
          "metadata": {
            "tags": [],
            "needs_background": "light"
          }
        }
      ]
    },
    {
      "cell_type": "code",
      "metadata": {
        "id": "aveY78Eh1YPK"
      },
      "source": [
        "medianValues = []\n",
        "\n",
        "for i in range(130):\n",
        "    boot1 = np.random.choice(train['age'],10)\n",
        "    medianValues.append(np.median(boot1))\n",
        "    \n",
        "median_age = np.median(medianValues)\n",
        "std_age = np.std(medianValues)"
      ],
      "execution_count": 184,
      "outputs": []
    },
    {
      "cell_type": "code",
      "metadata": {
        "colab": {
          "base_uri": "https://localhost:8080/",
          "height": 281
        },
        "id": "y6EE-UsE7i--",
        "outputId": "2f51ccea-d5c2-486b-b87b-2ca17e383de8"
      },
      "source": [
        "plt.hist(medianValues)\n",
        "plt.title('Median Age Sampling Distribution (n = 10)')\n",
        "plt.show()"
      ],
      "execution_count": 185,
      "outputs": [
        {
          "output_type": "display_data",
          "data": {
            "image/png": "[encoded data removed]",
            "text/plain": [
              "<Figure size 432x288 with 1 Axes>"
            ]
          },
          "metadata": {
            "tags": [],
            "needs_background": "light"
          }
        }
      ]
    },
    {
      "cell_type": "code",
      "metadata": {
        "colab": {
          "base_uri": "https://localhost:8080/",
          "height": 306
        },
        "id": "xy0ICmp8t24U",
        "outputId": "d71b6891-5721-45a8-a006-4c841ec5fe3d"
      },
      "source": [
        "kruskal(median_age, a.values)"
      ],
      "execution_count": 177,
      "outputs": [
        {
          "output_type": "error",
          "ename": "TypeError",
          "evalue": "ignored",
          "traceback": [
            "\u001b[0;31m---------------------------------------------------------------------------\u001b[0m",
            "\u001b[0;31mTypeError\u001b[0m                                 Traceback (most recent call last)",
            "\u001b[0;32m<ipython-input-177-e7ca1c868e60>\u001b[0m in \u001b[0;36m<module>\u001b[0;34m()\u001b[0m\n\u001b[0;32m----> 1\u001b[0;31m \u001b[0mkruskal\u001b[0m\u001b[0;34m(\u001b[0m\u001b[0mmed_age\u001b[0m\u001b[0;34m,\u001b[0m \u001b[0ma\u001b[0m\u001b[0;34m.\u001b[0m\u001b[0mvalues\u001b[0m\u001b[0;34m)\u001b[0m\u001b[0;34m\u001b[0m\u001b[0;34m\u001b[0m\u001b[0m\n\u001b[0m",
            "\u001b[0;32m/usr/local/lib/python3.7/dist-packages/scipy/stats/mstats_basic.py\u001b[0m in \u001b[0;36mkruskal\u001b[0;34m(*args)\u001b[0m\n\u001b[1;32m   1212\u001b[0m \u001b[0;34m\u001b[0m\u001b[0m\n\u001b[1;32m   1213\u001b[0m     \"\"\"\n\u001b[0;32m-> 1214\u001b[0;31m     \u001b[0moutput\u001b[0m \u001b[0;34m=\u001b[0m \u001b[0margstoarray\u001b[0m\u001b[0;34m(\u001b[0m\u001b[0;34m*\u001b[0m\u001b[0margs\u001b[0m\u001b[0;34m)\u001b[0m\u001b[0;34m\u001b[0m\u001b[0;34m\u001b[0m\u001b[0m\n\u001b[0m\u001b[1;32m   1215\u001b[0m     \u001b[0mranks\u001b[0m \u001b[0;34m=\u001b[0m \u001b[0mma\u001b[0m\u001b[0;34m.\u001b[0m\u001b[0mmasked_equal\u001b[0m\u001b[0;34m(\u001b[0m\u001b[0mrankdata\u001b[0m\u001b[0;34m(\u001b[0m\u001b[0moutput\u001b[0m\u001b[0;34m,\u001b[0m \u001b[0muse_missing\u001b[0m\u001b[0;34m=\u001b[0m\u001b[0;32mFalse\u001b[0m\u001b[0;34m)\u001b[0m\u001b[0;34m,\u001b[0m \u001b[0;36m0\u001b[0m\u001b[0;34m)\u001b[0m\u001b[0;34m\u001b[0m\u001b[0;34m\u001b[0m\u001b[0m\n\u001b[1;32m   1216\u001b[0m     \u001b[0msumrk\u001b[0m \u001b[0;34m=\u001b[0m \u001b[0mranks\u001b[0m\u001b[0;34m.\u001b[0m\u001b[0msum\u001b[0m\u001b[0;34m(\u001b[0m\u001b[0;34m-\u001b[0m\u001b[0;36m1\u001b[0m\u001b[0;34m)\u001b[0m\u001b[0;34m\u001b[0m\u001b[0;34m\u001b[0m\u001b[0m\n",
            "\u001b[0;32m/usr/local/lib/python3.7/dist-packages/scipy/stats/mstats_basic.py\u001b[0m in \u001b[0;36margstoarray\u001b[0;34m(*args)\u001b[0m\n\u001b[1;32m    120\u001b[0m     \u001b[0;32melse\u001b[0m\u001b[0;34m:\u001b[0m\u001b[0;34m\u001b[0m\u001b[0;34m\u001b[0m\u001b[0m\n\u001b[1;32m    121\u001b[0m         \u001b[0mn\u001b[0m \u001b[0;34m=\u001b[0m \u001b[0mlen\u001b[0m\u001b[0;34m(\u001b[0m\u001b[0margs\u001b[0m\u001b[0;34m)\u001b[0m\u001b[0;34m\u001b[0m\u001b[0;34m\u001b[0m\u001b[0m\n\u001b[0;32m--> 122\u001b[0;31m         \u001b[0mm\u001b[0m \u001b[0;34m=\u001b[0m \u001b[0mmax\u001b[0m\u001b[0;34m(\u001b[0m\u001b[0;34m[\u001b[0m\u001b[0mlen\u001b[0m\u001b[0;34m(\u001b[0m\u001b[0mk\u001b[0m\u001b[0;34m)\u001b[0m \u001b[0;32mfor\u001b[0m \u001b[0mk\u001b[0m \u001b[0;32min\u001b[0m \u001b[0margs\u001b[0m\u001b[0;34m]\u001b[0m\u001b[0;34m)\u001b[0m\u001b[0;34m\u001b[0m\u001b[0;34m\u001b[0m\u001b[0m\n\u001b[0m\u001b[1;32m    123\u001b[0m         \u001b[0moutput\u001b[0m \u001b[0;34m=\u001b[0m \u001b[0mma\u001b[0m\u001b[0;34m.\u001b[0m\u001b[0marray\u001b[0m\u001b[0;34m(\u001b[0m\u001b[0mnp\u001b[0m\u001b[0;34m.\u001b[0m\u001b[0mempty\u001b[0m\u001b[0;34m(\u001b[0m\u001b[0;34m(\u001b[0m\u001b[0mn\u001b[0m\u001b[0;34m,\u001b[0m\u001b[0mm\u001b[0m\u001b[0;34m)\u001b[0m\u001b[0;34m,\u001b[0m \u001b[0mdtype\u001b[0m\u001b[0;34m=\u001b[0m\u001b[0mfloat\u001b[0m\u001b[0;34m)\u001b[0m\u001b[0;34m,\u001b[0m \u001b[0mmask\u001b[0m\u001b[0;34m=\u001b[0m\u001b[0;32mTrue\u001b[0m\u001b[0;34m)\u001b[0m\u001b[0;34m\u001b[0m\u001b[0;34m\u001b[0m\u001b[0m\n\u001b[1;32m    124\u001b[0m         \u001b[0;32mfor\u001b[0m \u001b[0;34m(\u001b[0m\u001b[0mk\u001b[0m\u001b[0;34m,\u001b[0m\u001b[0mv\u001b[0m\u001b[0;34m)\u001b[0m \u001b[0;32min\u001b[0m \u001b[0menumerate\u001b[0m\u001b[0;34m(\u001b[0m\u001b[0margs\u001b[0m\u001b[0;34m)\u001b[0m\u001b[0;34m:\u001b[0m\u001b[0;34m\u001b[0m\u001b[0;34m\u001b[0m\u001b[0m\n",
            "\u001b[0;32m/usr/local/lib/python3.7/dist-packages/scipy/stats/mstats_basic.py\u001b[0m in \u001b[0;36m<listcomp>\u001b[0;34m(.0)\u001b[0m\n\u001b[1;32m    120\u001b[0m     \u001b[0;32melse\u001b[0m\u001b[0;34m:\u001b[0m\u001b[0;34m\u001b[0m\u001b[0;34m\u001b[0m\u001b[0m\n\u001b[1;32m    121\u001b[0m         \u001b[0mn\u001b[0m \u001b[0;34m=\u001b[0m \u001b[0mlen\u001b[0m\u001b[0;34m(\u001b[0m\u001b[0margs\u001b[0m\u001b[0;34m)\u001b[0m\u001b[0;34m\u001b[0m\u001b[0;34m\u001b[0m\u001b[0m\n\u001b[0;32m--> 122\u001b[0;31m         \u001b[0mm\u001b[0m \u001b[0;34m=\u001b[0m \u001b[0mmax\u001b[0m\u001b[0;34m(\u001b[0m\u001b[0;34m[\u001b[0m\u001b[0mlen\u001b[0m\u001b[0;34m(\u001b[0m\u001b[0mk\u001b[0m\u001b[0;34m)\u001b[0m \u001b[0;32mfor\u001b[0m \u001b[0mk\u001b[0m \u001b[0;32min\u001b[0m \u001b[0margs\u001b[0m\u001b[0;34m]\u001b[0m\u001b[0;34m)\u001b[0m\u001b[0;34m\u001b[0m\u001b[0;34m\u001b[0m\u001b[0m\n\u001b[0m\u001b[1;32m    123\u001b[0m         \u001b[0moutput\u001b[0m \u001b[0;34m=\u001b[0m \u001b[0mma\u001b[0m\u001b[0;34m.\u001b[0m\u001b[0marray\u001b[0m\u001b[0;34m(\u001b[0m\u001b[0mnp\u001b[0m\u001b[0;34m.\u001b[0m\u001b[0mempty\u001b[0m\u001b[0;34m(\u001b[0m\u001b[0;34m(\u001b[0m\u001b[0mn\u001b[0m\u001b[0;34m,\u001b[0m\u001b[0mm\u001b[0m\u001b[0;34m)\u001b[0m\u001b[0;34m,\u001b[0m \u001b[0mdtype\u001b[0m\u001b[0;34m=\u001b[0m\u001b[0mfloat\u001b[0m\u001b[0;34m)\u001b[0m\u001b[0;34m,\u001b[0m \u001b[0mmask\u001b[0m\u001b[0;34m=\u001b[0m\u001b[0;32mTrue\u001b[0m\u001b[0;34m)\u001b[0m\u001b[0;34m\u001b[0m\u001b[0;34m\u001b[0m\u001b[0m\n\u001b[1;32m    124\u001b[0m         \u001b[0;32mfor\u001b[0m \u001b[0;34m(\u001b[0m\u001b[0mk\u001b[0m\u001b[0;34m,\u001b[0m\u001b[0mv\u001b[0m\u001b[0;34m)\u001b[0m \u001b[0;32min\u001b[0m \u001b[0menumerate\u001b[0m\u001b[0;34m(\u001b[0m\u001b[0margs\u001b[0m\u001b[0;34m)\u001b[0m\u001b[0;34m:\u001b[0m\u001b[0;34m\u001b[0m\u001b[0;34m\u001b[0m\u001b[0m\n",
            "\u001b[0;31mTypeError\u001b[0m: object of type 'numpy.float64' has no len()"
          ]
        }
      ]
    },
    {
      "cell_type": "code",
      "metadata": {
        "id": "XBPHIwEIzt3T",
        "colab": {
          "base_uri": "https://localhost:8080/",
          "height": 197
        },
        "outputId": "d4027fcc-aa90-46a9-9749-cc441854a9a3"
      },
      "source": [
        ""
      ],
      "execution_count": 178,
      "outputs": [
        {
          "output_type": "error",
          "ename": "NameError",
          "evalue": "ignored",
          "traceback": [
            "\u001b[0;31m---------------------------------------------------------------------------\u001b[0m",
            "\u001b[0;31mNameError\u001b[0m                                 Traceback (most recent call last)",
            "\u001b[0;32m<ipython-input-178-e08f938fe847>\u001b[0m in \u001b[0;36m<module>\u001b[0;34m()\u001b[0m\n\u001b[1;32m      2\u001b[0m      \u001b[0;34m'actual median years employed: '\u001b[0m \u001b[0;34m+\u001b[0m \u001b[0mstr\u001b[0m\u001b[0;34m(\u001b[0m\u001b[0mnp\u001b[0m\u001b[0;34m.\u001b[0m\u001b[0mmedian\u001b[0m\u001b[0;34m(\u001b[0m\u001b[0mdata2\u001b[0m\u001b[0;34m[\u001b[0m\u001b[0;34m'YEARS_EMPLOYED'\u001b[0m\u001b[0;34m]\u001b[0m\u001b[0;34m)\u001b[0m\u001b[0;34m)\u001b[0m \u001b[0;34m+\u001b[0m \u001b[0;34m'\\n'\u001b[0m\u001b[0;34m\u001b[0m\u001b[0;34m\u001b[0m\u001b[0m\n\u001b[1;32m      3\u001b[0m      \u001b[0;34m'bootstrapped standard error years employed: '\u001b[0m \u001b[0;34m+\u001b[0m \u001b[0mstr\u001b[0m\u001b[0;34m(\u001b[0m\u001b[0mstd_emp\u001b[0m\u001b[0;34m)\u001b[0m \u001b[0;34m+\u001b[0m \u001b[0;34m'\\n'\u001b[0m \u001b[0;34m+\u001b[0m\u001b[0;34m\u001b[0m\u001b[0;34m\u001b[0m\u001b[0m\n\u001b[0;32m----> 4\u001b[0;31m      'actual standard error years employed: ' + str(np.std(data2['YEARS_EMPLOYED'])/np.sqrt(num_samples)))\n\u001b[0m",
            "\u001b[0;31mNameError\u001b[0m: name 'med_emp' is not defined"
          ]
        }
      ]
    },
    {
      "cell_type": "code",
      "metadata": {
        "id": "I1OV9LgH0EJs"
      },
      "source": [
        ""
      ],
      "execution_count": null,
      "outputs": []
    }
  ]
}